{
 "cells": [
  {
   "cell_type": "markdown",
   "metadata": {},
   "source": [
    "**Cell Types Project Notebook**\n"
   ]
  },
  {
   "cell_type": "code",
   "execution_count": null,
   "metadata": {},
   "outputs": [],
   "source": [
    "import pandas as pd\n",
    "from scipy import stats\n",
    "import matplotlib as mpl\n",
    "import matplotlib.pyplot as plt\n",
    "import numpy as np"
   ]
  },
  {
   "cell_type": "code",
   "execution_count": null,
   "metadata": {},
   "outputs": [],
   "source": [
    "from allensdk.core.cell_types_cache import CellTypesCache\n",
    "from allensdk.api.queries.cell_types_api import CellTypesApi\n",
    "ctc = CellTypesCache(manifest_file='cell_types/manifest.json')\n",
    "human_cells = ctc.get_cells(species=[CellTypesApi.HUMAN])\n",
    "human_df = pd.DataFrame(human_cells)\n",
    "human_df = human_df.set_index('id')\n",
    "human_df.head()\n",
    "ephys_features = pd.DataFrame(ctc.get_ephys_features()).set_index('specimen_id')\n",
    "human_ephys_df = human_df.join(ephys_features)\n",
    "human_ephys_df.head()"
   ]
  },
  {
   "cell_type": "code",
   "execution_count": null,
   "metadata": {},
   "outputs": [],
   "source": [
    "gene_df = pd.read_csv('brainarea_vs_genes_exp_w_reannotations.tsv', delimiter = '\\t')\n",
    "gene_df = gene_df.set_index('gene_symbol')\n",
    "gene_df.head()\n",
    "brain_regions = [item for item in gene_df.columns]\n",
    "#print(brain_regions)\n",
    "genes = [item for item in gene_df.index]\n",
    "#print(genes)"
   ]
  },
  {
   "cell_type": "code",
   "execution_count": null,
   "metadata": {},
   "outputs": [],
   "source": [
    "#Find all GABA-related genes https://www.genenames.org/data/genegroup/#!/group/562\n",
    "GABA_genes = []\n",
    "for item in genes:\n",
    "    if \"GABR\" in item or \"GABBR\" in item:\n",
    "        GABA_genes.append(item)\n",
    "print(GABA_genes)"
   ]
  },
  {
   "cell_type": "code",
   "execution_count": null,
   "metadata": {},
   "outputs": [],
   "source": [
    "#Find brain regions where GABA receptors are expressed the most\n",
    "gaba_gene_df = gene_df.loc[GABA_genes]\n",
    "\n",
    "# Sum expression levels across all GABA receptor genes for each brain area\n",
    "gaba_region_expression = gaba_gene_df.sum(axis=0).sort_values(ascending=False)\n",
    "\n",
    "# Display the top 5 brain areas with highest GABA receptor expression\n",
    "print(\"Top Brain Regions with Highest GABA Receptor Gene Expression:\")\n",
    "print(gaba_region_expression.head(10))"
   ]
  },
  {
   "cell_type": "code",
   "execution_count": null,
   "metadata": {},
   "outputs": [],
   "source": [
    "#Find all Glutamate-related genes https://www.genenames.org/data/genegroup/#!/group/282\n",
    "glutamate_genes = []\n",
    "for item in genes:\n",
    "    if \"GRM\" in item or \"GRI\" in item:\n",
    "        glutamate_genes.append(item)\n",
    "print(glutamate_genes)"
   ]
  },
  {
   "cell_type": "code",
   "execution_count": null,
   "metadata": {},
   "outputs": [],
   "source": [
    "#Find brain regions where GABA receptors are expressed the most\n",
    "glutamate_gene_df = gene_df.loc[glutamate_genes]\n",
    "\n",
    "# Sum expression levels across all GABA receptor genes for each brain area\n",
    "glutamate_region_expression = glutamate_gene_df.sum(axis=0).sort_values(ascending=False)\n",
    "\n",
    "# Display the top 5 brain areas with highest GABA receptor expression\n",
    "print(\"Top Brain Regions with Highest Glutamate Receptor Gene Expression:\")\n",
    "print(glutamate_region_expression.head(10))"
   ]
  }
 ],
 "metadata": {
  "kernelspec": {
   "display_name": "Python 3 (ipykernel)",
   "language": "python",
   "name": "python3"
  },
  "language_info": {
   "codemirror_mode": {
    "name": "ipython",
    "version": 3
   },
   "file_extension": ".py",
   "mimetype": "text/x-python",
   "name": "python",
   "nbconvert_exporter": "python",
   "pygments_lexer": "ipython3",
   "version": "3.12.8"
  }
 },
 "nbformat": 4,
 "nbformat_minor": 4
}
